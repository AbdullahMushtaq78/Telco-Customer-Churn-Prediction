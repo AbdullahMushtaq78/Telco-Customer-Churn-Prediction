{
 "cells": [
  {
   "cell_type": "code",
   "execution_count": 154,
   "metadata": {},
   "outputs": [],
   "source": [
    "import pandas as pd\n",
    "import numpy as np\n",
    "import matplotlib.pyplot as plt\n"
   ]
  },
  {
   "cell_type": "code",
   "execution_count": 155,
   "metadata": {},
   "outputs": [
    {
     "data": {
      "text/html": [
       "<div>\n",
       "<style scoped>\n",
       "    .dataframe tbody tr th:only-of-type {\n",
       "        vertical-align: middle;\n",
       "    }\n",
       "\n",
       "    .dataframe tbody tr th {\n",
       "        vertical-align: top;\n",
       "    }\n",
       "\n",
       "    .dataframe thead th {\n",
       "        text-align: right;\n",
       "    }\n",
       "</style>\n",
       "<table border=\"1\" class=\"dataframe\">\n",
       "  <thead>\n",
       "    <tr style=\"text-align: right;\">\n",
       "      <th></th>\n",
       "      <th>customerID</th>\n",
       "      <th>gender</th>\n",
       "      <th>SeniorCitizen</th>\n",
       "      <th>Partner</th>\n",
       "      <th>Dependents</th>\n",
       "      <th>tenure</th>\n",
       "      <th>PhoneService</th>\n",
       "      <th>MultipleLines</th>\n",
       "      <th>InternetService</th>\n",
       "      <th>OnlineSecurity</th>\n",
       "      <th>...</th>\n",
       "      <th>DeviceProtection</th>\n",
       "      <th>TechSupport</th>\n",
       "      <th>StreamingTV</th>\n",
       "      <th>StreamingMovies</th>\n",
       "      <th>Contract</th>\n",
       "      <th>PaperlessBilling</th>\n",
       "      <th>PaymentMethod</th>\n",
       "      <th>MonthlyCharges</th>\n",
       "      <th>TotalCharges</th>\n",
       "      <th>Churn</th>\n",
       "    </tr>\n",
       "  </thead>\n",
       "  <tbody>\n",
       "    <tr>\n",
       "      <th>0</th>\n",
       "      <td>7590-VHVEG</td>\n",
       "      <td>Female</td>\n",
       "      <td>0</td>\n",
       "      <td>Yes</td>\n",
       "      <td>No</td>\n",
       "      <td>1</td>\n",
       "      <td>No</td>\n",
       "      <td>No phone service</td>\n",
       "      <td>DSL</td>\n",
       "      <td>No</td>\n",
       "      <td>...</td>\n",
       "      <td>No</td>\n",
       "      <td>No</td>\n",
       "      <td>No</td>\n",
       "      <td>No</td>\n",
       "      <td>Month-to-month</td>\n",
       "      <td>Yes</td>\n",
       "      <td>Electronic check</td>\n",
       "      <td>29.85</td>\n",
       "      <td>29.85</td>\n",
       "      <td>No</td>\n",
       "    </tr>\n",
       "    <tr>\n",
       "      <th>1</th>\n",
       "      <td>5575-GNVDE</td>\n",
       "      <td>Male</td>\n",
       "      <td>0</td>\n",
       "      <td>No</td>\n",
       "      <td>No</td>\n",
       "      <td>34</td>\n",
       "      <td>Yes</td>\n",
       "      <td>No</td>\n",
       "      <td>DSL</td>\n",
       "      <td>Yes</td>\n",
       "      <td>...</td>\n",
       "      <td>Yes</td>\n",
       "      <td>No</td>\n",
       "      <td>No</td>\n",
       "      <td>No</td>\n",
       "      <td>One year</td>\n",
       "      <td>No</td>\n",
       "      <td>Mailed check</td>\n",
       "      <td>56.95</td>\n",
       "      <td>1889.5</td>\n",
       "      <td>No</td>\n",
       "    </tr>\n",
       "    <tr>\n",
       "      <th>2</th>\n",
       "      <td>3668-QPYBK</td>\n",
       "      <td>Male</td>\n",
       "      <td>0</td>\n",
       "      <td>No</td>\n",
       "      <td>No</td>\n",
       "      <td>2</td>\n",
       "      <td>Yes</td>\n",
       "      <td>No</td>\n",
       "      <td>DSL</td>\n",
       "      <td>Yes</td>\n",
       "      <td>...</td>\n",
       "      <td>No</td>\n",
       "      <td>No</td>\n",
       "      <td>No</td>\n",
       "      <td>No</td>\n",
       "      <td>Month-to-month</td>\n",
       "      <td>Yes</td>\n",
       "      <td>Mailed check</td>\n",
       "      <td>53.85</td>\n",
       "      <td>108.15</td>\n",
       "      <td>Yes</td>\n",
       "    </tr>\n",
       "    <tr>\n",
       "      <th>3</th>\n",
       "      <td>7795-CFOCW</td>\n",
       "      <td>Male</td>\n",
       "      <td>0</td>\n",
       "      <td>No</td>\n",
       "      <td>No</td>\n",
       "      <td>45</td>\n",
       "      <td>No</td>\n",
       "      <td>No phone service</td>\n",
       "      <td>DSL</td>\n",
       "      <td>Yes</td>\n",
       "      <td>...</td>\n",
       "      <td>Yes</td>\n",
       "      <td>Yes</td>\n",
       "      <td>No</td>\n",
       "      <td>No</td>\n",
       "      <td>One year</td>\n",
       "      <td>No</td>\n",
       "      <td>Bank transfer (automatic)</td>\n",
       "      <td>42.30</td>\n",
       "      <td>1840.75</td>\n",
       "      <td>No</td>\n",
       "    </tr>\n",
       "    <tr>\n",
       "      <th>4</th>\n",
       "      <td>9237-HQITU</td>\n",
       "      <td>Female</td>\n",
       "      <td>0</td>\n",
       "      <td>No</td>\n",
       "      <td>No</td>\n",
       "      <td>2</td>\n",
       "      <td>Yes</td>\n",
       "      <td>No</td>\n",
       "      <td>Fiber optic</td>\n",
       "      <td>No</td>\n",
       "      <td>...</td>\n",
       "      <td>No</td>\n",
       "      <td>No</td>\n",
       "      <td>No</td>\n",
       "      <td>No</td>\n",
       "      <td>Month-to-month</td>\n",
       "      <td>Yes</td>\n",
       "      <td>Electronic check</td>\n",
       "      <td>70.70</td>\n",
       "      <td>151.65</td>\n",
       "      <td>Yes</td>\n",
       "    </tr>\n",
       "  </tbody>\n",
       "</table>\n",
       "<p>5 rows × 21 columns</p>\n",
       "</div>"
      ],
      "text/plain": [
       "   customerID  gender  SeniorCitizen Partner Dependents  tenure PhoneService  \\\n",
       "0  7590-VHVEG  Female              0     Yes         No       1           No   \n",
       "1  5575-GNVDE    Male              0      No         No      34          Yes   \n",
       "2  3668-QPYBK    Male              0      No         No       2          Yes   \n",
       "3  7795-CFOCW    Male              0      No         No      45           No   \n",
       "4  9237-HQITU  Female              0      No         No       2          Yes   \n",
       "\n",
       "      MultipleLines InternetService OnlineSecurity  ... DeviceProtection  \\\n",
       "0  No phone service             DSL             No  ...               No   \n",
       "1                No             DSL            Yes  ...              Yes   \n",
       "2                No             DSL            Yes  ...               No   \n",
       "3  No phone service             DSL            Yes  ...              Yes   \n",
       "4                No     Fiber optic             No  ...               No   \n",
       "\n",
       "  TechSupport StreamingTV StreamingMovies        Contract PaperlessBilling  \\\n",
       "0          No          No              No  Month-to-month              Yes   \n",
       "1          No          No              No        One year               No   \n",
       "2          No          No              No  Month-to-month              Yes   \n",
       "3         Yes          No              No        One year               No   \n",
       "4          No          No              No  Month-to-month              Yes   \n",
       "\n",
       "               PaymentMethod MonthlyCharges  TotalCharges Churn  \n",
       "0           Electronic check          29.85         29.85    No  \n",
       "1               Mailed check          56.95        1889.5    No  \n",
       "2               Mailed check          53.85        108.15   Yes  \n",
       "3  Bank transfer (automatic)          42.30       1840.75    No  \n",
       "4           Electronic check          70.70        151.65   Yes  \n",
       "\n",
       "[5 rows x 21 columns]"
      ]
     },
     "execution_count": 155,
     "metadata": {},
     "output_type": "execute_result"
    }
   ],
   "source": [
    "df = pd.read_csv(\"D:/ML/customer-churn.csv\")\n",
    "df_temp = df\n",
    "df[0:5:]"
   ]
  },
  {
   "cell_type": "code",
   "execution_count": 156,
   "metadata": {},
   "outputs": [
    {
     "name": "stderr",
     "output_type": "stream",
     "text": [
      "c:\\Users\\asus\\anaconda3\\lib\\site-packages\\pandas\\core\\generic.py:5516: SettingWithCopyWarning: \n",
      "A value is trying to be set on a copy of a slice from a DataFrame.\n",
      "Try using .loc[row_indexer,col_indexer] = value instead\n",
      "\n",
      "See the caveats in the documentation: https://pandas.pydata.org/pandas-docs/stable/user_guide/indexing.html#returning-a-view-versus-a-copy\n",
      "  self[name] = value\n"
     ]
    }
   ],
   "source": [
    "#df.pop('customerID') #dropping it because we don't need CustomerID to determine soomething from data\n",
    "df.pop('customerID')\n",
    "df.TotalCharges.values\n",
    "#Total charges has data types as Object, but we want it to be in float\n",
    "pd.to_numeric(df.TotalCharges, errors='coerce') # this line will convert the string values into Numebrs but It will Ignore some of the values which have spaces in them\n",
    "df = df[df.TotalCharges!=' ']\n",
    "df.TotalCharges = pd.to_numeric(df.TotalCharges)\n",
    "\n"
   ]
  },
  {
   "cell_type": "code",
   "execution_count": 157,
   "metadata": {},
   "outputs": [
    {
     "data": {
      "text/plain": [
       "<matplotlib.legend.Legend at 0x269b901f790>"
      ]
     },
     "execution_count": 157,
     "metadata": {},
     "output_type": "execute_result"
    },
    {
     "data": {
      "image/png": "[encoded data removed]",
      "text/plain": [
       "<Figure size 432x288 with 1 Axes>"
      ]
     },
     "metadata": {
      "needs_background": "light"
     },
     "output_type": "display_data"
    }
   ],
   "source": [
    "#Some Data visualization for Better understanding the data\n",
    "tenure_churn_no = df[df.Churn == 'No'].tenure\n",
    "tenure_churn_yes = df[df.Churn == 'Yes'].tenure\n",
    "plt.xlabel(\"Tenure\")\n",
    "plt.ylabel(\"No of customers\")\n",
    "plt.title(\"Customer Churn Prediction Visualization\")\n",
    "plt.hist([tenure_churn_yes, tenure_churn_no], color=['green', 'red'], label=['Churn=Yes', 'Churn=No'])\n",
    "plt.legend()"
   ]
  },
  {
   "cell_type": "code",
   "execution_count": 158,
   "metadata": {},
   "outputs": [
    {
     "data": {
      "text/plain": [
       "<matplotlib.legend.Legend at 0x269b8e36910>"
      ]
     },
     "execution_count": 158,
     "metadata": {},
     "output_type": "execute_result"
    },
    {
     "data": {
      "image/png": "[encoded data removed]",
      "text/plain": [
       "<Figure size 432x288 with 1 Axes>"
      ]
     },
     "metadata": {
      "needs_background": "light"
     },
     "output_type": "display_data"
    }
   ],
   "source": [
    "MonCharge_churn_no = df[df.Churn == 'No'].MonthlyCharges\n",
    "MonCharge_churn_yes = df[df.Churn == 'Yes'].MonthlyCharges\n",
    "plt.xlabel(\"Monthly Charges\")\n",
    "plt.ylabel(\"No of customers\")\n",
    "plt.title(\"Customer Churn Prediction Visualization\")\n",
    "plt.hist([MonCharge_churn_yes, MonCharge_churn_no], color=['green', 'red'], label=['Churn=Yes', 'Churn=No'])\n",
    "plt.legend()"
   ]
  },
  {
   "cell_type": "code",
   "execution_count": 159,
   "metadata": {},
   "outputs": [
    {
     "name": "stdout",
     "output_type": "stream",
     "text": [
      "gender -->   ['Female' 'Male']\n",
      "Partner -->   ['Yes' 'No']\n",
      "Dependents -->   ['No' 'Yes']\n",
      "PhoneService -->   ['No' 'Yes']\n",
      "MultipleLines -->   ['No phone service' 'No' 'Yes']\n",
      "InternetService -->   ['DSL' 'Fiber optic' 'No']\n",
      "OnlineSecurity -->   ['No' 'Yes' 'No internet service']\n",
      "OnlineBackup -->   ['Yes' 'No' 'No internet service']\n",
      "DeviceProtection -->   ['No' 'Yes' 'No internet service']\n",
      "TechSupport -->   ['No' 'Yes' 'No internet service']\n",
      "StreamingTV -->   ['No' 'Yes' 'No internet service']\n",
      "StreamingMovies -->   ['No' 'Yes' 'No internet service']\n",
      "Contract -->   ['Month-to-month' 'One year' 'Two year']\n",
      "PaperlessBilling -->   ['Yes' 'No']\n",
      "PaymentMethod -->   ['Electronic check' 'Mailed check' 'Bank transfer (automatic)'\n",
      " 'Credit card (automatic)']\n",
      "Churn -->   ['No' 'Yes']\n"
     ]
    }
   ],
   "source": [
    "def Print_Unique_Col(df):\n",
    "    for col in df:\n",
    "        if df[col].dtype == 'object':\n",
    "            print(col, '-->  ', df[col].unique() )\n",
    "Print_Unique_Col(df)"
   ]
  },
  {
   "cell_type": "code",
   "execution_count": 160,
   "metadata": {},
   "outputs": [
    {
     "name": "stdout",
     "output_type": "stream",
     "text": [
      "gender -->   ['Female' 'Male']\n",
      "Partner -->   ['Yes' 'No']\n",
      "Dependents -->   ['No' 'Yes']\n",
      "PhoneService -->   ['No' 'Yes']\n",
      "MultipleLines -->   ['No' 'Yes']\n",
      "InternetService -->   ['DSL' 'Fiber optic' 'No']\n",
      "OnlineSecurity -->   ['No' 'Yes']\n",
      "OnlineBackup -->   ['Yes' 'No']\n",
      "DeviceProtection -->   ['No' 'Yes']\n",
      "TechSupport -->   ['No' 'Yes']\n",
      "StreamingTV -->   ['No' 'Yes']\n",
      "StreamingMovies -->   ['No' 'Yes']\n",
      "Contract -->   ['Month-to-month' 'One year' 'Two year']\n",
      "PaperlessBilling -->   ['Yes' 'No']\n",
      "PaymentMethod -->   ['Electronic check' 'Mailed check' 'Bank transfer (automatic)'\n",
      " 'Credit card (automatic)']\n",
      "Churn -->   ['No' 'Yes']\n"
     ]
    },
    {
     "name": "stderr",
     "output_type": "stream",
     "text": [
      "c:\\Users\\asus\\anaconda3\\lib\\site-packages\\pandas\\core\\frame.py:5238: SettingWithCopyWarning: \n",
      "A value is trying to be set on a copy of a slice from a DataFrame\n",
      "\n",
      "See the caveats in the documentation: https://pandas.pydata.org/pandas-docs/stable/user_guide/indexing.html#returning-a-view-versus-a-copy\n",
      "  return super().replace(\n"
     ]
    }
   ],
   "source": [
    "df.replace('No internet service', 'No', inplace=True)\n",
    "df.replace('No phone service', 'No', inplace=True)\n",
    "Print_Unique_Col(df)"
   ]
  },
  {
   "cell_type": "code",
   "execution_count": 161,
   "metadata": {},
   "outputs": [
    {
     "name": "stdout",
     "output_type": "stream",
     "text": [
      "InternetService -->   ['DSL' 'Fiber optic' 0]\n",
      "Contract -->   ['Month-to-month' 'One year' 'Two year']\n",
      "PaymentMethod -->   ['Electronic check' 'Mailed check' 'Bank transfer (automatic)'\n",
      " 'Credit card (automatic)']\n"
     ]
    }
   ],
   "source": [
    "df.replace('Yes',1,inplace=True)\n",
    "df.replace('No',0,inplace=True)\n",
    "df.replace(\"Female\", 1, inplace=True)\n",
    "df.replace(\"Male\", 0, inplace=True)\n",
    "Print_Unique_Col(df)"
   ]
  },
  {
   "cell_type": "code",
   "execution_count": 162,
   "metadata": {},
   "outputs": [
    {
     "data": {
      "text/plain": [
       "Index(['gender', 'SeniorCitizen', 'Partner', 'Dependents', 'tenure',\n",
       "       'PhoneService', 'MultipleLines', 'OnlineSecurity', 'OnlineBackup',\n",
       "       'DeviceProtection', 'TechSupport', 'StreamingTV', 'StreamingMovies',\n",
       "       'PaperlessBilling', 'MonthlyCharges', 'TotalCharges', 'Churn',\n",
       "       'InternetService_0', 'InternetService_DSL',\n",
       "       'InternetService_Fiber optic', 'Contract_Month-to-month',\n",
       "       'Contract_One year', 'Contract_Two year',\n",
       "       'PaymentMethod_Bank transfer (automatic)',\n",
       "       'PaymentMethod_Credit card (automatic)',\n",
       "       'PaymentMethod_Electronic check', 'PaymentMethod_Mailed check'],\n",
       "      dtype='object')"
      ]
     },
     "execution_count": 162,
     "metadata": {},
     "output_type": "execute_result"
    }
   ],
   "source": [
    "#one Hot Encoding\n",
    "df = pd.get_dummies(data=df, columns=['InternetService', 'Contract','PaymentMethod'])\n",
    "df.columns\n"
   ]
  },
  {
   "cell_type": "code",
   "execution_count": 163,
   "metadata": {},
   "outputs": [],
   "source": [
    "# for col in df:\n",
    "#     print(col, '-->  ', df[col].unique(), df[col].dtype )\n",
    "#Scaling the Columns with continuous values between 0-1 with Min Max Scaler\n",
    "cols_toScale = ['tenure', 'MonthlyCharges', 'TotalCharges']\n",
    "from sklearn.preprocessing import MinMaxScaler\n",
    "scaler = MinMaxScaler()\n",
    "df[cols_toScale] = scaler.fit_transform(df[cols_toScale])"
   ]
  },
  {
   "cell_type": "code",
   "execution_count": 164,
   "metadata": {},
   "outputs": [
    {
     "name": "stdout",
     "output_type": "stream",
     "text": [
      "(5625, 26) (1407, 26)\n"
     ]
    }
   ],
   "source": [
    "#Data Cleaning is pretty much completed and now we need to Split our data into Test and Train\n",
    "\n",
    "y = df.Churn\n",
    "X = df.drop('Churn', axis='columns')\n",
    "from sklearn.model_selection import train_test_split\n",
    "x_train, x_test, y_train, y_test = train_test_split(X,y,test_size=0.2, random_state=5)\n",
    "print(x_train.shape, x_test.shape)\n"
   ]
  },
  {
   "cell_type": "code",
   "execution_count": 172,
   "metadata": {},
   "outputs": [],
   "source": [
    "#Now the data is splitted we can build our model accordingly\n",
    "import tensorflow as tf\n",
    "from tensorflow.keras.models import Sequential\n",
    "from tensorflow.keras.layers import Dense\n",
    "\n",
    "model = Sequential([\n",
    "    Dense(units= 26, input_shape = (26,), activation = 'relu'),\n",
    "    #Dense(units= 10, activation = 'relu'),\n",
    "    Dense(units= 1, activation = 'sigmoid')\n",
    "])\n",
    "model.compile(\n",
    "    optimizer = 'adam',\n",
    "    loss = 'binary_crossentropy', \n",
    "    metrics = ['accuracy']\n",
    ")"
   ]
  },
  {
   "cell_type": "code",
   "execution_count": 166,
   "metadata": {},
   "outputs": [
    {
     "name": "stdout",
     "output_type": "stream",
     "text": [
      "Epoch 1/50\n",
      "176/176 [==============================] - 1s 2ms/step - loss: 0.4952 - accuracy: 0.7559\n",
      "Epoch 2/50\n",
      "176/176 [==============================] - 0s 1ms/step - loss: 0.4324 - accuracy: 0.7909\n",
      "Epoch 3/50\n",
      "176/176 [==============================] - 0s 992us/step - loss: 0.4216 - accuracy: 0.7988\n",
      "Epoch 4/50\n",
      "176/176 [==============================] - 0s 997us/step - loss: 0.4169 - accuracy: 0.8018\n",
      "Epoch 5/50\n",
      "176/176 [==============================] - 0s 1ms/step - loss: 0.4147 - accuracy: 0.8043\n",
      "Epoch 6/50\n",
      "176/176 [==============================] - 0s 1ms/step - loss: 0.4117 - accuracy: 0.8055\n",
      "Epoch 7/50\n",
      "176/176 [==============================] - 0s 2ms/step - loss: 0.4107 - accuracy: 0.8068\n",
      "Epoch 8/50\n",
      "176/176 [==============================] - 0s 2ms/step - loss: 0.4098 - accuracy: 0.8059\n",
      "Epoch 9/50\n",
      "176/176 [==============================] - 0s 1ms/step - loss: 0.4081 - accuracy: 0.8098\n",
      "Epoch 10/50\n",
      "176/176 [==============================] - 0s 2ms/step - loss: 0.4070 - accuracy: 0.8110\n",
      "Epoch 11/50\n",
      "176/176 [==============================] - 0s 1ms/step - loss: 0.4058 - accuracy: 0.8096\n",
      "Epoch 12/50\n",
      "176/176 [==============================] - 0s 2ms/step - loss: 0.4050 - accuracy: 0.8108\n",
      "Epoch 13/50\n",
      "176/176 [==============================] - 0s 2ms/step - loss: 0.4044 - accuracy: 0.8110\n",
      "Epoch 14/50\n",
      "176/176 [==============================] - 0s 1ms/step - loss: 0.4035 - accuracy: 0.8130\n",
      "Epoch 15/50\n",
      "176/176 [==============================] - 0s 1ms/step - loss: 0.4032 - accuracy: 0.8126\n",
      "Epoch 16/50\n",
      "176/176 [==============================] - 0s 2ms/step - loss: 0.4018 - accuracy: 0.8151\n",
      "Epoch 17/50\n",
      "176/176 [==============================] - 0s 1ms/step - loss: 0.4016 - accuracy: 0.8130\n",
      "Epoch 18/50\n",
      "176/176 [==============================] - 0s 1ms/step - loss: 0.4011 - accuracy: 0.8119\n",
      "Epoch 19/50\n",
      "176/176 [==============================] - 0s 2ms/step - loss: 0.4001 - accuracy: 0.8128\n",
      "Epoch 20/50\n",
      "176/176 [==============================] - 0s 1ms/step - loss: 0.4001 - accuracy: 0.8137\n",
      "Epoch 21/50\n",
      "176/176 [==============================] - 0s 1ms/step - loss: 0.3992 - accuracy: 0.8128\n",
      "Epoch 22/50\n",
      "176/176 [==============================] - 0s 2ms/step - loss: 0.3990 - accuracy: 0.8142\n",
      "Epoch 23/50\n",
      "176/176 [==============================] - 0s 1ms/step - loss: 0.3979 - accuracy: 0.8137\n",
      "Epoch 24/50\n",
      "176/176 [==============================] - 0s 2ms/step - loss: 0.3974 - accuracy: 0.8151\n",
      "Epoch 25/50\n",
      "176/176 [==============================] - 0s 1ms/step - loss: 0.3970 - accuracy: 0.8133\n",
      "Epoch 26/50\n",
      "176/176 [==============================] - 0s 2ms/step - loss: 0.3960 - accuracy: 0.8151\n",
      "Epoch 27/50\n",
      "176/176 [==============================] - 0s 1ms/step - loss: 0.3964 - accuracy: 0.8169\n",
      "Epoch 28/50\n",
      "176/176 [==============================] - 0s 2ms/step - loss: 0.3952 - accuracy: 0.8139\n",
      "Epoch 29/50\n",
      "176/176 [==============================] - 0s 1ms/step - loss: 0.3950 - accuracy: 0.8178\n",
      "Epoch 30/50\n",
      "176/176 [==============================] - 0s 2ms/step - loss: 0.3939 - accuracy: 0.8126\n",
      "Epoch 31/50\n",
      "176/176 [==============================] - 0s 1ms/step - loss: 0.3933 - accuracy: 0.8171\n",
      "Epoch 32/50\n",
      "176/176 [==============================] - 0s 2ms/step - loss: 0.3937 - accuracy: 0.8162\n",
      "Epoch 33/50\n",
      "176/176 [==============================] - 0s 1ms/step - loss: 0.3926 - accuracy: 0.8172\n",
      "Epoch 34/50\n",
      "176/176 [==============================] - 0s 1ms/step - loss: 0.3929 - accuracy: 0.8162\n",
      "Epoch 35/50\n",
      "176/176 [==============================] - 0s 2ms/step - loss: 0.3922 - accuracy: 0.8142\n",
      "Epoch 36/50\n",
      "176/176 [==============================] - 0s 1ms/step - loss: 0.3922 - accuracy: 0.8148\n",
      "Epoch 37/50\n",
      "176/176 [==============================] - 0s 2ms/step - loss: 0.3915 - accuracy: 0.8160\n",
      "Epoch 38/50\n",
      "176/176 [==============================] - 0s 2ms/step - loss: 0.3902 - accuracy: 0.8176\n",
      "Epoch 39/50\n",
      "176/176 [==============================] - 0s 2ms/step - loss: 0.3912 - accuracy: 0.8153\n",
      "Epoch 40/50\n",
      "176/176 [==============================] - 0s 1ms/step - loss: 0.3898 - accuracy: 0.8196\n",
      "Epoch 41/50\n",
      "176/176 [==============================] - 0s 1ms/step - loss: 0.3909 - accuracy: 0.8156\n",
      "Epoch 42/50\n",
      "176/176 [==============================] - 0s 2ms/step - loss: 0.3898 - accuracy: 0.8185\n",
      "Epoch 43/50\n",
      "176/176 [==============================] - 0s 2ms/step - loss: 0.3886 - accuracy: 0.8197\n",
      "Epoch 44/50\n",
      "176/176 [==============================] - 0s 2ms/step - loss: 0.3890 - accuracy: 0.8188\n",
      "Epoch 45/50\n",
      "176/176 [==============================] - 0s 1ms/step - loss: 0.3893 - accuracy: 0.8165\n",
      "Epoch 46/50\n",
      "176/176 [==============================] - 0s 1ms/step - loss: 0.3881 - accuracy: 0.8171\n",
      "Epoch 47/50\n",
      "176/176 [==============================] - 0s 1ms/step - loss: 0.3881 - accuracy: 0.8196\n",
      "Epoch 48/50\n",
      "176/176 [==============================] - 0s 1ms/step - loss: 0.3867 - accuracy: 0.8204\n",
      "Epoch 49/50\n",
      "176/176 [==============================] - 0s 1ms/step - loss: 0.3872 - accuracy: 0.8160\n",
      "Epoch 50/50\n",
      "176/176 [==============================] - 0s 1ms/step - loss: 0.3866 - accuracy: 0.8203\n"
     ]
    },
    {
     "data": {
      "text/plain": [
       "<keras.callbacks.History at 0x269b19cfcd0>"
      ]
     },
     "execution_count": 166,
     "metadata": {},
     "output_type": "execute_result"
    }
   ],
   "source": [
    "from tabnanny import verbose\n",
    "model.fit(x_train, y_train, epochs = 50, verbose = 1)"
   ]
  },
  {
   "cell_type": "code",
   "execution_count": 167,
   "metadata": {},
   "outputs": [
    {
     "name": "stdout",
     "output_type": "stream",
     "text": [
      "44/44 [==============================] - 0s 1ms/step - loss: 0.4448 - accuracy: 0.7868\n",
      "Accuracy on testing is:  78.67803573608398\n"
     ]
    }
   ],
   "source": [
    "acc = model.evaluate(x_test, y_test)\n",
    "print(\"Accuracy on testing is: \", acc[1]*100)"
   ]
  },
  {
   "cell_type": "code",
   "execution_count": 168,
   "metadata": {},
   "outputs": [
    {
     "name": "stdout",
     "output_type": "stream",
     "text": [
      "44/44 [==============================] - 0s 951us/step\n"
     ]
    },
    {
     "data": {
      "text/plain": [
       "array([[0.19913208],\n",
       "       [0.30696872],\n",
       "       [0.02309495],\n",
       "       [0.70143676],\n",
       "       [0.5863404 ]], dtype=float32)"
      ]
     },
     "execution_count": 168,
     "metadata": {},
     "output_type": "execute_result"
    }
   ],
   "source": [
    "yp = model.predict(x_test)\n",
    "yp[:5]"
   ]
  },
  {
   "cell_type": "code",
   "execution_count": 169,
   "metadata": {},
   "outputs": [],
   "source": [
    "y_pred = []\n",
    "for element in yp:\n",
    "    if element > 0.5:\n",
    "        y_pred.append(1)\n",
    "    else:\n",
    "        y_pred.append(0)"
   ]
  },
  {
   "cell_type": "code",
   "execution_count": 170,
   "metadata": {},
   "outputs": [
    {
     "name": "stdout",
     "output_type": "stream",
     "text": [
      "              precision    recall  f1-score   support\n",
      "\n",
      "           0       0.83      0.88      0.85       999\n",
      "           1       0.66      0.55      0.60       408\n",
      "\n",
      "    accuracy                           0.79      1407\n",
      "   macro avg       0.74      0.72      0.73      1407\n",
      "weighted avg       0.78      0.79      0.78      1407\n",
      "\n"
     ]
    }
   ],
   "source": [
    "from sklearn.metrics import confusion_matrix, classification_report\n",
    "print(classification_report(y_test, y_pred))"
   ]
  },
  {
   "cell_type": "code",
   "execution_count": 171,
   "metadata": {},
   "outputs": [
    {
     "data": {
      "text/plain": [
       "Text(69.0, 0.5, 'Truth')"
      ]
     },
     "execution_count": 171,
     "metadata": {},
     "output_type": "execute_result"
    },
    {
     "data": {
      "image/png": "[encoded data removed]",
      "text/plain": [
       "<Figure size 720x504 with 2 Axes>"
      ]
     },
     "metadata": {
      "needs_background": "light"
     },
     "output_type": "display_data"
    }
   ],
   "source": [
    "cm = tf.math.confusion_matrix(labels=y_test, predictions = y_pred)\n",
    "import seaborn as sn\n",
    "plt.figure(figsize=(10, 7))\n",
    "sn.heatmap(cm, annot = True, fmt= 'd')\n",
    "plt.xlabel(\"Predicted\")\n",
    "plt.ylabel(\"Truth\")"
   ]
  }
 ],
 "metadata": {
  "kernelspec": {
   "display_name": "Python 3.9.7 ('base')",
   "language": "python",
   "name": "python3"
  },
  "language_info": {
   "codemirror_mode": {
    "name": "ipython",
    "version": 3
   },
   "file_extension": ".py",
   "mimetype": "text/x-python",
   "name": "python",
   "nbconvert_exporter": "python",
   "pygments_lexer": "ipython3",
   "version": "3.9.7"
  },
  "orig_nbformat": 4,
  "vscode": {
   "interpreter": {
    "hash": "9c1d5a056f04d97314a9f946bc8c5185004572d3d68312220c0ba298420421f7"
   }
  }
 },
 "nbformat": 4,
 "nbformat_minor": 2
}
